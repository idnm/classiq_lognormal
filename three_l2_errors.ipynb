{
  "cells": [
    {
      "cell_type": "markdown",
      "metadata": {
        "id": "view-in-github",
        "colab_type": "text"
      },
      "source": [
        "<a href=\"https://colab.research.google.com/github/idnm/classiq_lognormal/blob/main/three_l2_errors.ipynb\" target=\"_parent\"><img src=\"https://colab.research.google.com/assets/colab-badge.svg\" alt=\"Open In Colab\"/></a>"
      ]
    },
    {
      "cell_type": "code",
      "source": [
        "!git clone https://github.com/idnm/classiq_lognormal\n",
        "try:\n",
        "   import qiskit\n",
        "except ImportError:\n",
        "  !pip install qiskit\n",
        "\n",
        "from classiq_lognormal.l2_error import *\n",
        "\n",
        "from qiskit import QuantumCircuit\n",
        "from qiskit.quantum_info import Statevector"
      ],
      "metadata": {
        "id": "KgP38r6JMg1r"
      },
      "id": "KgP38r6JMg1r",
      "execution_count": null,
      "outputs": []
    },
    {
      "cell_type": "markdown",
      "id": "204a8a4a-52b7-4145-8a4a-95c4fb531bb2",
      "metadata": {
        "id": "204a8a4a-52b7-4145-8a4a-95c4fb531bb2"
      },
      "source": [
        "# Collect three implementations for computing l2 error."
      ]
    },
    {
      "cell_type": "code",
      "execution_count": null,
      "id": "c037b315-f166-4ecb-bc61-2cd15c4d04ff",
      "metadata": {
        "id": "c037b315-f166-4ecb-bc61-2cd15c4d04ff"
      },
      "outputs": [],
      "source": [
        "# This function assumes that all qubits are to be measured for the distribution.\n",
        "def probabilities_from_circuit(qc):        \n",
        "    state = Statevector.from_instruction(qc) \n",
        "    return state.probabilities()\n",
        "\n",
        "def three_l2_errors_from_probabilities(p, x):\n",
        "    error_2 = idnm_l2_error(jnp.array(p), jnp.array(x))\n",
        "    error_1 = tnemoz_l2_error(p, x)\n",
        "    error_0 = l2_error(p, x)\n",
        "    \n",
        "    print(f'Error by method 0 (QuantumSage):{error_0}')\n",
        "    print(f'Error by method 1 (tnemoz):{error_1}')\n",
        "    print(f'Error by method 2 (idnm):{error_2}')\n",
        "    \n",
        "def three_l2_errors_from_circuit(qasm_str, x, reverse_bits=True):\n",
        "    \n",
        "    qc = QuantumCircuit.from_qasm_str(qasm_str)\n",
        "    if reverse_bits:\n",
        "        qc = qc.reverse_bits()\n",
        "        \n",
        "    print(f'Circuit depth is {qc.depth()}\\n')\n",
        "    p = probabilities_from_circuit(qc)\n",
        "    three_l2_errors_from_probabilities(p, x)\n",
        "    "
      ]
    },
    {
      "cell_type": "markdown",
      "id": "cc9746b9-5491-4575-806b-070ec689d1fd",
      "metadata": {
        "id": "cc9746b9-5491-4575-806b-070ec689d1fd"
      },
      "source": [
        "# Sample computation"
      ]
    },
    {
      "cell_type": "markdown",
      "id": "ff80c421-ecb1-494c-851a-8fef3c564936",
      "metadata": {
        "id": "ff80c421-ecb1-494c-851a-8fef3c564936"
      },
      "source": [
        "Define a sample circuit and discretization."
      ]
    },
    {
      "cell_type": "code",
      "execution_count": null,
      "id": "05880e06-424e-4aaa-a887-95003e56aa24",
      "metadata": {
        "id": "05880e06-424e-4aaa-a887-95003e56aa24"
      },
      "outputs": [],
      "source": [
        "num_qubits = 5\n",
        "qc = QuantumCircuit(num_qubits)\n",
        "for i in range(num_qubits):\n",
        "    qc.h(i)\n",
        "    \n",
        "qasm = qc.qasm()\n",
        "x = np.linspace(0.5, 1.5, 2**num_qubits+1)"
      ]
    },
    {
      "cell_type": "markdown",
      "id": "1c3d4323-68cb-4184-bbb0-9aea11720fcd",
      "metadata": {
        "id": "1c3d4323-68cb-4184-bbb0-9aea11720fcd"
      },
      "source": [
        "Report errors computed by three slighly different methods."
      ]
    },
    {
      "cell_type": "code",
      "execution_count": null,
      "id": "acd57ef3-ddcb-4f7d-9f03-1d2c634bedb7",
      "metadata": {
        "colab": {
          "base_uri": "https://localhost:8080/",
          "height": 389
        },
        "id": "acd57ef3-ddcb-4f7d-9f03-1d2c634bedb7",
        "outputId": "365b57f3-110d-46b9-fcfd-e554f4d7a1cb"
      },
      "outputs": [
        {
          "output_type": "stream",
          "name": "stderr",
          "text": [
            "WARNING:absl:No GPU/TPU found, falling back to CPU. (Set TF_CPP_MIN_LOG_LEVEL=0 and rerun for more info.)\n"
          ]
        },
        {
          "output_type": "stream",
          "name": "stdout",
          "text": [
            "Circuit depth is 1\n",
            "\n",
            "Error by method 0 (QuantumSage):1.3520420550300756\n",
            "Error by method 1 (tnemoz):1.352057439438687\n",
            "Error by method 2 (idnm):1.3520573377609253\n"
          ]
        },
        {
          "output_type": "display_data",
          "data": {
            "text/plain": [
              "<Figure size 432x288 with 1 Axes>"
            ],
            "image/png": "[encoded data removed]"
          },
          "metadata": {
            "needs_background": "light"
          }
        }
      ],
      "source": [
        "three_l2_errors_from_circuit(qasm, x)"
      ]
    }
  ],
  "metadata": {
    "kernelspec": {
      "display_name": "pypi",
      "language": "python",
      "name": "pypi"
    },
    "language_info": {
      "codemirror_mode": {
        "name": "ipython",
        "version": 3
      },
      "file_extension": ".py",
      "mimetype": "text/x-python",
      "name": "python",
      "nbconvert_exporter": "python",
      "pygments_lexer": "ipython3",
      "version": "3.8.10"
    },
    "colab": {
      "name": "three_l2_errors.ipynb",
      "provenance": [],
      "include_colab_link": true
    }
  },
  "nbformat": 4,
  "nbformat_minor": 5
}